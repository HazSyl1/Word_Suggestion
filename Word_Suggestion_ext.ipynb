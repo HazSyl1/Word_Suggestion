{
  "nbformat": 4,
  "nbformat_minor": 0,
  "metadata": {
    "colab": {
      "provenance": [],
      "gpuType": "T4"
    },
    "kernelspec": {
      "name": "python3",
      "display_name": "Python 3"
    },
    "language_info": {
      "name": "python"
    },
    "accelerator": "GPU"
  },
  "cells": [
    {
      "cell_type": "code",
      "execution_count": 1,
      "metadata": {
        "id": "hnZvWHDwnSOr"
      },
      "outputs": [],
      "source": [
        "# grader-required-cell\n",
        "\n",
        "import numpy as np\n",
        "import matplotlib.pyplot as plt\n",
        "from tensorflow.keras.models import Sequential\n",
        "from tensorflow.keras.utils import to_categorical\n",
        "from tensorflow.keras.preprocessing.text import Tokenizer\n",
        "from tensorflow.keras.preprocessing.sequence import pad_sequences\n",
        "from tensorflow.keras.layers import Embedding, LSTM, Dense, Bidirectional"
      ]
    },
    {
      "cell_type": "code",
      "source": [
        "# grader-required-cell\n",
        "\n",
        "# Define path for file with sonnets\n",
        "CHAT_FILE = '/content/Book 6 - The Half Blood Prince.txt'\n",
        "\n",
        "# Read the data\n",
        "with open(CHAT_FILE) as f:\n",
        "    data = f.read()\n",
        "\n",
        "# Convert to lower case and save as a list\n",
        "corpus = data.lower().split(\"\\n\")\n",
        "corpus=corpus[10:]\n",
        "print(f\"There are {len(corpus)} lines\\n\")\n",
        "print(f\"The first 5 lines look like this:\\n\")\n",
        "for i in range(11):\n",
        "  print(corpus[i])"
      ],
      "metadata": {
        "colab": {
          "base_uri": "https://localhost:8080/"
        },
        "id": "tAgibZ1und8E",
        "outputId": "42b1cc85-28f1-4644-dfc3-3fbdc20370e5"
      },
      "execution_count": 2,
      "outputs": [
        {
          "output_type": "stream",
          "name": "stdout",
          "text": [
            "There are 32383 lines\n",
            "\n",
            "The first 5 lines look like this:\n",
            "\n",
            "the other minister \n",
            "\n",
            "it was nearing midnight and the prime minister was \n",
            "sitting alone in his office, reading a long memo that \n",
            "was slipping through his brain without leaving the \n",
            "slightest trace of meaning behind. he was waiting for \n",
            "a call from the president of a far distant country, and \n",
            "between wondering when the wretched man would \n",
            "telephone, and trying to suppress unpleasant \n",
            "memories of what had been a very long, tiring, and \n",
            "difficult week, there was not much space in his head \n"
          ]
        }
      ]
    },
    {
      "cell_type": "code",
      "source": [
        "corpus"
      ],
      "metadata": {
        "colab": {
          "base_uri": "https://localhost:8080/"
        },
        "id": "H7EkmOI0WZqL",
        "outputId": "cc095fce-a8cc-4bed-a4ca-b4803a867ccf"
      },
      "execution_count": 3,
      "outputs": [
        {
          "output_type": "execute_result",
          "data": {
            "text/plain": [
              "['the other minister ',\n",
              " '',\n",
              " 'it was nearing midnight and the prime minister was ',\n",
              " 'sitting alone in his office, reading a long memo that ',\n",
              " 'was slipping through his brain without leaving the ',\n",
              " 'slightest trace of meaning behind. he was waiting for ',\n",
              " 'a call from the president of a far distant country, and ',\n",
              " 'between wondering when the wretched man would ',\n",
              " 'telephone, and trying to suppress unpleasant ',\n",
              " 'memories of what had been a very long, tiring, and ',\n",
              " 'difficult week, there was not much space in his head ',\n",
              " 'for anything else. the more he attempted to focus on ',\n",
              " 'the print on the page before him, the more clearly the ',\n",
              " 'prime minister could see the gloating face of one of ',\n",
              " 'his political opponents. this particular opponent had ',\n",
              " 'appeared on the news that very day, not only to ',\n",
              " 'enumerate all the terrible things that had happened ',\n",
              " 'in the last week (as though anyone needed reminding) ',\n",
              " 'but also to explain why each and every one of them ',\n",
              " 'was the government’s fault. ',\n",
              " '',\n",
              " 'the prime minister’s pulse quickened at the very ',\n",
              " 'thought of these accusations, for they were neither ',\n",
              " 'fair nor true. how on earth was his government ',\n",
              " '',\n",
              " 'page | 2 harry potter and the half blood prince - j.k. rowling ',\n",
              " '',\n",
              " '',\n",
              " '',\n",
              " 'supposed to have stopped that bridge collapsing? it ',\n",
              " 'was outrageous for anybody to suggest that they were ',\n",
              " 'not spending enough on bridges. the bridge was ',\n",
              " 'fewer than ten years old, and the best experts were at ',\n",
              " 'a loss to explain why it had snapped cleanly in two, ',\n",
              " 'sending a dozen cars into the watery depths of the ',\n",
              " 'river below. and how dare anyone suggest that it was ',\n",
              " 'lack of policemen that had resulted in those two very ',\n",
              " 'nasty and well-publicized murders? or that the ',\n",
              " 'government should have somehow foreseen the freak ',\n",
              " 'hurricane in the west country that had caused so ',\n",
              " 'much damage to both people and property? and was ',\n",
              " 'it his fault that one of his junior ministers, herbert ',\n",
              " 'chorley, had chosen this week to act so peculiarly ',\n",
              " 'that he was now going to be spending a lot more time ',\n",
              " 'with his family? ',\n",
              " '',\n",
              " '“a grim mood has gripped the country,” the opponent ',\n",
              " 'had concluded, barely concealing his own broad grin. ',\n",
              " '',\n",
              " 'and unfortunately, this was perfectly true. the prime ',\n",
              " 'minister felt it himself; people really did seem more ',\n",
              " 'miserable than usual. even the weather was dismal; ',\n",
              " 'all this chilly mist in the middle of july. ... it wasn’t ',\n",
              " 'right, it wasn’t normal. ... ',\n",
              " '',\n",
              " 'he turned over the second page of the memo, saw ',\n",
              " 'how much longer it went on, and gave it up as a bad ',\n",
              " 'job. stretching his arms above his head he looked ',\n",
              " 'around his office mournfully. it was a handsome ',\n",
              " 'room, with a fine marble fireplace facing the long sash ',\n",
              " 'windows, firmly closed against the unseasonable ',\n",
              " 'chill. with a slight shiver, the prime minister got up ',\n",
              " 'and moved over to the window, looking out at the thin ',\n",
              " 'mist that was pressing itself against the glass. it was ',\n",
              " 'then, as he stood with his back to the room, that he ',\n",
              " 'heard a soft cough behind him. ',\n",
              " '',\n",
              " '',\n",
              " '',\n",
              " 'page | 3 ',\n",
              " '',\n",
              " '',\n",
              " '',\n",
              " 'harry potter and the half blood prince - j.k. rowling ',\n",
              " '',\n",
              " '',\n",
              " '',\n",
              " '',\n",
              " 'he froze, nose to nose with his own scared-looking ',\n",
              " 'reflection in the dark glass. he knew that cough. he ',\n",
              " 'had heard it before. he turned very slowly to face the ',\n",
              " 'empty room. ',\n",
              " '',\n",
              " '“hello?” he said, trying to sound braver than he felt. ',\n",
              " '',\n",
              " 'for a brief moment he allowed himself the impossible ',\n",
              " 'hope that nobody would answer him. however, a ',\n",
              " 'voice responded at once, a crisp, decisive voice that ',\n",
              " 'sounded as though it were reading a prepared ',\n",
              " 'statement. it was coming — as the prime minister ',\n",
              " 'had known at the first cough — from the froglike little ',\n",
              " 'man wearing a long silver wig who was depicted in a ',\n",
              " 'small, dirty oil painting in the far corner of the room. ',\n",
              " '',\n",
              " '“to the prime minister of muggles. urgent we meet. ',\n",
              " 'kindly respond immediately. sincerely, fudge.” ',\n",
              " '',\n",
              " 'the man in the painting looked inquiringly at the ',\n",
              " 'prime minister. ',\n",
              " '',\n",
              " '“er,” said the prime minister, “listen. ... it’s not a very ',\n",
              " 'good time for me. ... i’m waiting for a telephone call, ',\n",
              " 'you see . . . from the president of — ” ',\n",
              " '',\n",
              " '“that can be rearranged,” said the portrait at once. ',\n",
              " 'the prime minister’s heart sank. he had been afraid ',\n",
              " 'of that. ',\n",
              " '',\n",
              " '“but i really was rather hoping to speak — ” ',\n",
              " '',\n",
              " '“we shall arrange for the president to forget to call. ',\n",
              " '',\n",
              " 'he will telephone tomorrow night instead,” said the ',\n",
              " 'little man. “kindly respond immediately to mr. ',\n",
              " '',\n",
              " 'fudge.” ',\n",
              " '',\n",
              " '“i ... oh ... very well,” said the prime minister weakly. ',\n",
              " '“yes, i’ll see fudge.” ',\n",
              " '',\n",
              " 'page | 4 harry potter and the half blood prince -j.k. rowling ',\n",
              " '',\n",
              " '',\n",
              " '',\n",
              " '',\n",
              " 'he hurried back to his desk, straightening his tie as ',\n",
              " 'he went. he had barely resumed his seat, and ',\n",
              " 'arranged his face into what he hoped was a relaxed ',\n",
              " 'and unfazed expression, when bright green flames ',\n",
              " 'burst into life in the empty grate beneath his marble ',\n",
              " 'mantelpiece. he watched, trying not to betray a flicker ',\n",
              " 'of surprise or alarm, as a portly man appeared within ',\n",
              " 'the flames, spinning as fast as a top. seconds later, ',\n",
              " 'he had climbed out onto a rather fine antique rug, ',\n",
              " 'brushing ash from the sleeves of his long pin-striped ',\n",
              " 'cloak, a lime-green bowler hat in his hand. ',\n",
              " '',\n",
              " '“ah ... prime minister,” said cornelius fudge, striding ',\n",
              " 'forward with his hand outstretched. “good to see you ',\n",
              " 'again.” ',\n",
              " '',\n",
              " 'the prime minister could not honestly return this ',\n",
              " 'compliment, so said nothing at all. he was not ',\n",
              " 'remotely pleased to see fudge, whose occasional ',\n",
              " 'appearances, apart from being downright alarming in ',\n",
              " 'themselves, generally meant that he was about to ',\n",
              " 'hear some very bad news. furthermore, fudge was ',\n",
              " 'looking distinctly careworn. he was thinner, balder, ',\n",
              " 'and grayer, and his face had a crumpled look. the ',\n",
              " 'prime minister had seen that kind of look in ',\n",
              " 'politicians before, and it never boded well. ',\n",
              " '',\n",
              " '“how can i help you?” he said, shaking fudge’s hand ',\n",
              " 'very briefly and gesturing toward the hardest of the ',\n",
              " 'chairs in front of the desk. ',\n",
              " '',\n",
              " '“difficult to know where to begin,” muttered fudge, ',\n",
              " 'pulling up the chair, sitting down, and placing his ',\n",
              " 'green bowler upon his knees. “what a week, what a ',\n",
              " 'week ...” ',\n",
              " '',\n",
              " '“had a bad one too, have you?” asked the prime ',\n",
              " 'minister stiffly, hoping to convey by this that he had ',\n",
              " '',\n",
              " '',\n",
              " '',\n",
              " 'page | 5 ',\n",
              " '',\n",
              " '',\n",
              " '',\n",
              " 'harry potter and the half blood prince - j.k. rowling ',\n",
              " '',\n",
              " '',\n",
              " '',\n",
              " '',\n",
              " 'quite enough on his plate already without any extra ',\n",
              " 'helpings from fudge. ',\n",
              " '',\n",
              " '',\n",
              " '',\n",
              " '“yes, of course,” said fudge, rubbing his eyes wearily ',\n",
              " 'and looking morosely at the prime minister. “i’ve been ',\n",
              " 'having the same week you have, prime minister. the ',\n",
              " 'brockdale bridge ... the bones and vance murders ... ',\n",
              " 'not to mention the ruckus in the west country ...” ',\n",
              " '',\n",
              " '“you — er — your — i mean to say, some of your ',\n",
              " 'people were — were involved in those — those things, ',\n",
              " 'were they?” ',\n",
              " '',\n",
              " 'fudge fixed the prime minister with a rather stern ',\n",
              " 'look. “of course they were,” he said. “surely you’ve ',\n",
              " 'realized what’s going on?” ',\n",
              " '',\n",
              " '“i ...” hesitated the prime minister. ',\n",
              " '',\n",
              " 'it was precisely this sort of behavior that made him ',\n",
              " 'dislike fudge’s visits so much. he was, after all, the ',\n",
              " 'prime minister and did not appreciate being made to ',\n",
              " 'feel like an ignorant schoolboy. but of course, it had ',\n",
              " 'been like this from his very first meeting with fudge ',\n",
              " 'on his very first evening as prime minister. he ',\n",
              " 'remembered it as though it were yesterday and knew ',\n",
              " 'it would haunt him until his dying day. ',\n",
              " '',\n",
              " 'he had been standing alone in this very office, ',\n",
              " 'savoring the triumph that was his after so many ',\n",
              " 'years of dreaming and scheming, when he had heard ',\n",
              " 'a cough behind him, just like tonight, and turned to ',\n",
              " 'find that ugly little portrait talking to him, ',\n",
              " 'announcing that the minister of magic was about to ',\n",
              " 'arrive and introduce himself. ',\n",
              " '',\n",
              " 'naturally, he had thought that the long campaign and ',\n",
              " 'the strain of the election had caused him to go mad. ',\n",
              " 'he had been utterly terrified to find a portrait talking ',\n",
              " '',\n",
              " 'page | 6 harry potter and the half blood prince -j.k. rowling ',\n",
              " '',\n",
              " '',\n",
              " '',\n",
              " '',\n",
              " 'to him, though this had been nothing to how he felt ',\n",
              " 'when a self-proclaimed wizard had bounced out of the ',\n",
              " 'fireplace and shaken his hand. he had remained ',\n",
              " 'speechless throughout fudge’s kindly explanation ',\n",
              " 'that there were witches and wizards still living in ',\n",
              " 'secret all over the world and his reassurances that he ',\n",
              " 'was not to bother his head about them as the ',\n",
              " 'ministry of magic took responsibility for the whole ',\n",
              " 'wizarding community and prevented the non-magical ',\n",
              " 'population from getting wind of them. it was, said ',\n",
              " 'fudge, a difficult job that encompassed everything ',\n",
              " 'from regulations on responsible use of broomsticks to ',\n",
              " 'keeping the dragon population under control (the ',\n",
              " 'prime minister remembered clutching the desk for ',\n",
              " 'support at this point). fudge had then patted the ',\n",
              " 'shoulder of the still-dumbstruck prime minister in a ',\n",
              " 'fatherly sort of way. ',\n",
              " '',\n",
              " '“not to worry,” he had said, “it’s odds-on you’ll never ',\n",
              " 'see me again. i’ll only bother you if there’s something ',\n",
              " 'really serious going on our end, something that’s ',\n",
              " 'likely to affect the muggles — the non-magical ',\n",
              " 'population, i should say. otherwise, it’s live and let ',\n",
              " 'live. and i must say, you’re taking it a lot better than ',\n",
              " 'your predecessor. he tried to throw me out the ',\n",
              " 'window, thought i was a hoax planned by the ',\n",
              " 'opposition.” ',\n",
              " '',\n",
              " 'at this, the prime minister had found his voice at last. ',\n",
              " '“you’re — you’re not a hoax, then?” ',\n",
              " '',\n",
              " 'it had been his last, desperate hope. ',\n",
              " '',\n",
              " '“no,” said fudge gently. “no, i’m afraid i’m not. look.” ',\n",
              " '',\n",
              " 'and he had turned the prime minister’s teacup into a ',\n",
              " 'gerbil. ',\n",
              " '',\n",
              " '',\n",
              " '',\n",
              " 'page | 7 ',\n",
              " '',\n",
              " '',\n",
              " '',\n",
              " 'harry potter and the half blood prince - j.k. rowling ',\n",
              " '',\n",
              " '',\n",
              " '',\n",
              " '',\n",
              " '“but,” said the prime minister breathlessly, watching ',\n",
              " 'his teacup chewing on the corner of his next speech, ',\n",
              " '“but why — why has nobody told me — ?” ',\n",
              " '',\n",
              " '“the minister of magic only reveals him- or herself to ',\n",
              " 'the muggle prime minister of the day,” said fudge, ',\n",
              " 'poking his wand back inside his jacket. “we find it ',\n",
              " 'the best way to maintain secrecy.” ',\n",
              " '',\n",
              " '“but then,” bleated the prime minister, “why hasn’t a ',\n",
              " 'former prime minister warned me — ?” ',\n",
              " '',\n",
              " 'at this, fudge had actually laughed. ',\n",
              " '',\n",
              " '“my dear prime minister, are you ever going to tell ',\n",
              " 'anybody?” ',\n",
              " '',\n",
              " 'still chortling, fudge had thrown some powder into ',\n",
              " 'the fireplace, stepped into the emerald flames, and ',\n",
              " 'vanished with a whooshing sound. the prime ',\n",
              " 'minister had stood there, quite motionless, and ',\n",
              " 'realized that he would never, as long as he lived, dare ',\n",
              " 'mention this encounter to a living soul, for who in the ',\n",
              " 'wide world would believe him? ',\n",
              " '',\n",
              " 'the shock had taken a little while to wear off. for a ',\n",
              " 'time, he had tried to convince himself that fudge had ',\n",
              " 'indeed been a hallucination brought on by lack of ',\n",
              " 'sleep during his grueling election campaign. in a vain ',\n",
              " 'attempt to rid himself of all reminders of this ',\n",
              " 'uncomfortable encounter, he had given the gerbil to ',\n",
              " 'his delighted niece and instructed his private ',\n",
              " 'secretary to take down the portrait of the ugly little ',\n",
              " 'man who had announced fudge’s arrival. to the ',\n",
              " 'prime minister’s dismay, however, the portrait had ',\n",
              " 'proved impossible to remove. when several ',\n",
              " 'carpenters, a builder or two, an art historian, and the ',\n",
              " 'chancellor of the exchequer had all tried ',\n",
              " 'unsuccessfully to prise it from the wall, the prime ',\n",
              " 'page | 8 harry potter and the half blood prince - j.k. rowling ',\n",
              " '',\n",
              " '',\n",
              " '',\n",
              " '',\n",
              " 'minister had abandoned the attempt and simply ',\n",
              " 'resolved to hope that the thing remained motionless ',\n",
              " 'and silent for the rest of his term in office. ',\n",
              " 'occasionally he could have sworn he saw out of the ',\n",
              " 'corner of his eye the occupant of the painting ',\n",
              " 'yawning, or else scratching his nose; even, once or ',\n",
              " 'twice, simply walking out of his frame and leaving ',\n",
              " 'nothing but a stretch of muddy-brown canvas behind. ',\n",
              " 'however, he had trained himself not to look at the ',\n",
              " 'picture very much, and always to tell himself firmly ',\n",
              " 'that his eyes were playing tricks on him when ',\n",
              " 'anything like this happened. ',\n",
              " '',\n",
              " 'then, three years ago, on a night very like tonight, the ',\n",
              " 'prime minister had been alone in his office when the ',\n",
              " 'portrait had once again announced the imminent ',\n",
              " 'arrival of fudge, who had burst out of the fireplace, ',\n",
              " 'sopping wet and in a state of considerable panic. ',\n",
              " 'before the prime minister could ask why he was ',\n",
              " 'dripping all over the axminster, fudge had started ',\n",
              " 'ranting about a prison the prime minister had never ',\n",
              " 'heard of, a man named “serious” black, something ',\n",
              " 'that sounded like “hogwarts,” and a boy called harry ',\n",
              " 'potter, none of which made the remotest sense to the ',\n",
              " 'prime minister. ',\n",
              " '',\n",
              " '\"... fve just come from azkaban,” fudge had panted, ',\n",
              " 'tipping a large amount of water out of the rim of his ',\n",
              " 'bowler hat into his pocket. “middle of the north sea, ',\n",
              " 'you know, nasty flight . . . the dementors are in ',\n",
              " 'uproar” — he shuddered — “they’ve never had a ',\n",
              " 'breakout before. anyway, i had to come to you, prime ',\n",
              " 'minister. black’s a known muggle killer and may be ',\n",
              " 'planning to rejoin you-know-who. ... but of course, ',\n",
              " 'you don’t even know who you-know-who is!” he had ',\n",
              " 'gazed hopelessly at the prime minister for a moment, ',\n",
              " 'then said, “well, sit down, sit down, i’d better fill you ',\n",
              " 'in. ... have a whiskey ...” ',\n",
              " '',\n",
              " '',\n",
              " '',\n",
              " 'page | 9 ',\n",
              " '',\n",
              " '',\n",
              " '',\n",
              " 'harry potter and the half blood prince - j.k. rowling ',\n",
              " '',\n",
              " '',\n",
              " '',\n",
              " '',\n",
              " 'the prime minister rather resented being told to sit ',\n",
              " 'down in his own office, let alone offered his own ',\n",
              " 'whiskey, but he sat nevertheless. fudge pulled out ',\n",
              " 'his wand, conjured two large glasses full of amber ',\n",
              " 'liquid out of thin air, pushed one of them into the ',\n",
              " 'prime minister’s hand, and drew up a chair. ',\n",
              " '',\n",
              " 'fudge had talked for more than an hour. at one ',\n",
              " 'point, he had refused to say a certain name aloud and ',\n",
              " 'wrote it instead on a piece of parchment, which he ',\n",
              " 'had thrust into the prime minister’s whiskey-free ',\n",
              " 'hand. when at last fudge had stood up to leave, the ',\n",
              " 'prime minister had stood up too. ',\n",
              " '',\n",
              " '“so you think that ...” he had squinted down at the ',\n",
              " 'name in his left hand. “lord vol — ” ',\n",
              " '',\n",
              " '“ he-who-must-not-be-named\\\\” snarled fudge. ',\n",
              " '',\n",
              " '“i’m sorry. ... you think that he-who-must-not-be- ',\n",
              " 'named is still alive, then?” ',\n",
              " '',\n",
              " '“well, dumbledore says he is,” said fudge, as he had ',\n",
              " 'fastened his pin-striped cloak under his chin, “but ',\n",
              " 'we’ve never found him. if you ask me, he’s not ',\n",
              " 'dangerous unless he’s got support, so it’s black we ',\n",
              " 'ought to be worrying about. you’ll put out that ',\n",
              " 'warning, then? excellent. well, i hope we don’t see ',\n",
              " 'each other again, prime minister! good night.” ',\n",
              " '',\n",
              " 'but they had seen each other again. less than a year ',\n",
              " 'later a harassed-looking fudge had appeared out of ',\n",
              " 'thin air in the cabinet room to inform the prime ',\n",
              " 'minister that there had been a spot of bother at the ',\n",
              " 'kwidditch (or that was what it had sounded like) ',\n",
              " 'world cup and that several muggles had been ',\n",
              " '“involved,” but that the prime minister was not to ',\n",
              " 'worry, the fact that you-know- who’s mark had been ',\n",
              " 'seen again meant nothing; fudge was sure it was an ',\n",
              " 'page | 10 harry potter and the half blood prince - j.k. rowling ',\n",
              " '',\n",
              " '',\n",
              " '',\n",
              " '',\n",
              " 'isolated incident, and the muggle liaison office was ',\n",
              " 'dealing with all memory modifications as they spoke. ',\n",
              " '',\n",
              " '“oh, and i almost forgot,” fudge had added. “we’re ',\n",
              " 'importing three foreign dragons and a sphinx for the ',\n",
              " 'triwizard tournament, quite routine, but the ',\n",
              " 'department for the regulation and control of magical ',\n",
              " 'creatures tells me that it’s down in the rule book that ',\n",
              " 'we have to notify you if we’re bringing highly ',\n",
              " 'dangerous creatures into the country.” ',\n",
              " '',\n",
              " '“i — what — dragons?” spluttered the prime minister. ',\n",
              " '',\n",
              " '“yes, three,” said fudge. “and a sphinx. well, good ',\n",
              " 'day to you.” ',\n",
              " '',\n",
              " 'the prime minister had hoped beyond hope that ',\n",
              " 'dragons and sphinxes would be the worst of it, but ',\n",
              " 'no. less than two years later, fudge had erupted out ',\n",
              " 'of the fire yet again, this time with the news that ',\n",
              " 'there had been a mass breakout from azkaban. ',\n",
              " '',\n",
              " '“a mass breakout?” repeated the prime minister ',\n",
              " 'hoarsely. ',\n",
              " '',\n",
              " '“no need to worry, no need to worry!” shouted fudge, ',\n",
              " 'already with one foot in the flames. “we’ll have them ',\n",
              " 'rounded up in no time — just thought you ought to ',\n",
              " 'know!” ',\n",
              " '',\n",
              " 'and before the prime minister could shout, “now, wait ',\n",
              " 'just one moment!” fudge had vanished in a shower of ',\n",
              " 'green sparks. ',\n",
              " '',\n",
              " 'whatever the press and the opposition might say, the ',\n",
              " 'prime minister was not a foolish man. it had not ',\n",
              " 'escaped his notice that, despite fudge’s assurances ',\n",
              " 'at their first meeting, they were now seeing rather a ',\n",
              " 'lot of each other, nor that fudge was becoming more ',\n",
              " 'page | 11 harry potter and the half blood prince - j.k. rowling ',\n",
              " '',\n",
              " '',\n",
              " '',\n",
              " '',\n",
              " 'flustered with each visit. little though he liked to ',\n",
              " 'think about the minister of magic (or, as he always ',\n",
              " 'called fudge in his head, the other minister), the ',\n",
              " 'prime minister could not help but fear that the next ',\n",
              " 'time fudge appeared it would be with graver news ',\n",
              " 'still. the sight, therefore, of fudge stepping out of the ',\n",
              " 'fire once more, looking disheveled and fretful and ',\n",
              " 'sternly surprised that the prime minister did not ',\n",
              " 'know exactly why he was there, was about the worst ',\n",
              " 'thing that had happened in the course of this ',\n",
              " 'extremely gloomy week. ',\n",
              " '',\n",
              " '“how should i know what’s going on in the — er — ',\n",
              " 'wizarding community?” snapped the prime minister ',\n",
              " 'now. “i have a country to run and quite enough ',\n",
              " 'concerns at the moment without — ” ',\n",
              " '',\n",
              " '“we have the same concerns,” fudge interrupted. ',\n",
              " '',\n",
              " '“the brockdale bridge didn’t wear out. that wasn’t ',\n",
              " 'really a hurricane. those murders were not the work ',\n",
              " 'of muggles. and herbert chorley’s family would be ',\n",
              " 'safer without him. we are currently making ',\n",
              " 'arrangements to have him transferred to st. mungo’s ',\n",
              " 'hospital for magical maladies and injuries. the move ',\n",
              " 'should be effected tonight.” ',\n",
              " '',\n",
              " '“what do you ... i’m afraid i ... what?” blustered the ',\n",
              " 'prime minister. ',\n",
              " '',\n",
              " 'fudge took a great, deep breath and said, “prime ',\n",
              " 'minister, i am very sorry to have to tell you that he’s ',\n",
              " 'back. he-who-must-not-be-named is back.” ',\n",
              " '',\n",
              " '“back? when you say ‘back’ ... he’s alive? i mean — ” ',\n",
              " '',\n",
              " 'the prime minister groped in his memory for the ',\n",
              " 'details of that horrible conversation of three years ',\n",
              " 'previously, when fudge had told him about the ',\n",
              " 'wizard who was feared above all others, the wizard ',\n",
              " '',\n",
              " 'page | 12 harry potter and the half blood prince - j.k. rowling ',\n",
              " '',\n",
              " '',\n",
              " '',\n",
              " '',\n",
              " 'who had committed a thousand terrible crimes before ',\n",
              " 'his mysterious disappearance fifteen years earlier. ',\n",
              " '',\n",
              " '“yes, alive,” said fudge. “that is — i don’t know — is ',\n",
              " 'a man alive if he can’t be killed? i don’t really ',\n",
              " 'understand it, and dumbledore won’t explain ',\n",
              " 'properly — but anyway, he’s certainly got a body and ',\n",
              " 'is walking and talking and killing, so i suppose, for ',\n",
              " 'the purposes of our discussion, yes, he’s alive.” ',\n",
              " '',\n",
              " 'the prime minister did not know what to say to this, ',\n",
              " 'but a persistent habit of wishing to appear well- ',\n",
              " 'informed on any subject that came up made him cast ',\n",
              " 'around for any details he could remember of their ',\n",
              " 'previous conversations. ',\n",
              " '',\n",
              " '“is serious black with — er — he-who-must-not-be- ',\n",
              " 'named?” ',\n",
              " '',\n",
              " '“black? black?” said fudge distractedly, turning his ',\n",
              " 'bowler rapidly in his fingers. “sirius black, you ',\n",
              " 'mean? merlin’s beard, no. black’s dead. turns out we ',\n",
              " 'were — er — mistaken about black. he was innocent ',\n",
              " 'after all. and he wasn’t in league with he-who-must- ',\n",
              " 'not-be-named either. i mean,” he added defensively, ',\n",
              " 'spinning the bowler hat still faster, “all the evidence ',\n",
              " 'pointed — we had more than fifty eyewitnesses — but ',\n",
              " 'anyway, as i say, he’s dead. murdered, as a matter of ',\n",
              " 'fact. on ministry of magic premises. there’s going to ',\n",
              " 'be an inquiry, actually. ...” ',\n",
              " '',\n",
              " 'to his great surprise, the prime minister felt a fleeting ',\n",
              " 'stab of pity for fudge at this point. it was, however, ',\n",
              " 'eclipsed almost immediately by a glow of smugness at ',\n",
              " 'the thought that, deficient though he himself might ',\n",
              " 'be in the area of materializing out of fireplaces, there ',\n",
              " 'had never been a murder in any of the government ',\n",
              " 'departments under his charge. ... not yet, anyway ... ',\n",
              " '',\n",
              " '',\n",
              " '',\n",
              " 'page | 13 harry potter and the half blood prince - j.k. rowling ',\n",
              " '',\n",
              " '',\n",
              " '',\n",
              " '',\n",
              " 'while the prime minister surreptitiously touched the ',\n",
              " 'wood of his desk, fudge continued, “but black’s by- ',\n",
              " 'the-by now. the point is, we’re at war, prime minister, ',\n",
              " 'and steps must be taken.” ',\n",
              " '',\n",
              " '“at war?” repeated the prime minister nervously. ',\n",
              " '“surely that’s a little bit of an overstatement?” ',\n",
              " '',\n",
              " '“he-who-must-not-be-named has now been joined by ',\n",
              " 'those of his followers who broke out of azkaban in ',\n",
              " 'january,” said fudge, speaking more and more ',\n",
              " 'rapidly and twirling his bowler so fast that it was a ',\n",
              " 'lime-green blur. “since they have moved into the ',\n",
              " 'open, they have been wreaking havoc. the brockdale ',\n",
              " 'bridge — he did it, prime minister, he threatened a ',\n",
              " 'mass muggle killing unless i stood aside for him and ',\n",
              " '',\n",
              " '',\n",
              " '',\n",
              " '“good grief, so it’s your fault those people were killed ',\n",
              " 'and i’m having to answer questions about rusted ',\n",
              " 'rigging and corroded expansion joints and i don’t ',\n",
              " 'know what else!” said the prime minister furiously. ',\n",
              " '',\n",
              " '“my fault!” said fudge, coloring up. “are you saying ',\n",
              " 'you would have caved in to blackmail like that?” ',\n",
              " '',\n",
              " '“maybe not,” said the prime minister, standing up ',\n",
              " 'and striding about the room, “but i would have put all ',\n",
              " 'my efforts into catching the blackmailer before he ',\n",
              " 'committed any such atrocity!” ',\n",
              " '',\n",
              " '“do you really think i wasn’t already making every ',\n",
              " 'effort?” demanded fudge heatedly. “every auror in ',\n",
              " 'the ministry was — and is — trying to find him and ',\n",
              " 'round up his followers, but we happen to be talking ',\n",
              " 'about one of the most powerful wizards of all time, a ',\n",
              " 'wizard who has eluded capture for almost three ',\n",
              " 'decades!” ',\n",
              " '',\n",
              " '',\n",
              " '',\n",
              " 'page | 14 harry potter and the half blood prince - j.k. rowling ',\n",
              " '',\n",
              " '',\n",
              " '',\n",
              " '',\n",
              " '“so i suppose you’re going to tell me he caused the ',\n",
              " 'hurricane in the west country too?” said the prime ',\n",
              " 'minister, his temper rising with every pace he took. it ',\n",
              " 'was infuriating to discover the reason for all these ',\n",
              " 'terrible disasters and not to be able to tell the public, ',\n",
              " 'almost worse than it being the government’s fault ',\n",
              " 'after all. ',\n",
              " '',\n",
              " '“that was no hurricane,” said fudge miserably. ',\n",
              " '',\n",
              " '“excuse me!” barked the prime minister, now ',\n",
              " 'positively stamping up and down. “trees uprooted, ',\n",
              " 'roofs ripped off, lampposts bent, horrible injuries — ” ',\n",
              " '',\n",
              " '“it was the death eaters,” said fudge. “he-who-must- ',\n",
              " 'not-be-named’s followers. and ... and we suspect ',\n",
              " 'giant involvement.” ',\n",
              " '',\n",
              " 'the prime minister stopped in his tracks as though ',\n",
              " 'he had hit an invisible wall. “ what involvement?” ',\n",
              " '',\n",
              " 'fudge grimaced. “he used giants last time, when he ',\n",
              " 'wanted to go for the grand effect,” he said. “the office ',\n",
              " 'of misinformation has been working around the clock, ',\n",
              " 'we’ve had teams of obliviators out trying to modify ',\n",
              " 'the memories of all the muggles who saw what really ',\n",
              " 'happened, we’ve got most of the department for the ',\n",
              " 'regulation and control of magical creatures running ',\n",
              " 'around somerset, but we can’t find the giant — it’s ',\n",
              " 'been a disaster.” ',\n",
              " '',\n",
              " '“you don’t say!” said the prime minister furiously. ',\n",
              " '',\n",
              " '“i won’t deny that morale is pretty low at the ',\n",
              " 'ministry,” said fudge. “what with all that, and then ',\n",
              " 'losing amelia bones.” ',\n",
              " '',\n",
              " '“losing who?” ',\n",
              " '',\n",
              " '',\n",
              " '',\n",
              " 'page | 15 harry potter and the half blood prince - j.k. rowling ',\n",
              " '',\n",
              " '',\n",
              " '',\n",
              " '',\n",
              " '“amelia bones. head of the department of magical ',\n",
              " 'law enforcement. we think he-who-must-not-be- ',\n",
              " 'named may have murdered her in person, because ',\n",
              " 'she was a very gifted witch and — and all the ',\n",
              " 'evidence was that she put up a real fight.” ',\n",
              " '',\n",
              " 'fudge cleared his throat and, with an effort, it ',\n",
              " 'seemed, stopped spinning his bowler hat. ',\n",
              " '',\n",
              " '“but that murder was in the newspapers,” said the ',\n",
              " 'prime minister, momentarily diverted from his anger. ',\n",
              " '“our newspapers. amelia bones ... it just said she ',\n",
              " 'was a middle-aged woman who lived alone. it was a — ',\n",
              " 'a nasty killing, wasn’t it? it’s had rather a lot of ',\n",
              " 'publicity. the police are baffled, you see.” ',\n",
              " '',\n",
              " 'fudge sighed. “well, of course they are,” he said. ',\n",
              " '“killed in a room that was locked from the inside, ',\n",
              " 'wasn’t she? we, on the other hand, know exactly who ',\n",
              " 'did it, not that that gets us any further toward ',\n",
              " 'catching him. and then there was emmeline vance, ',\n",
              " 'maybe you didn’t hear about that one — ” ',\n",
              " '',\n",
              " '“oh yes i did!” said the prime minister. “it happened ',\n",
              " 'just around the corner from here, as a matter of fact. ',\n",
              " 'the papers had a field day with it, ‘breakdown of law ',\n",
              " 'and order in the prime minister’s backyard — ’ ” ',\n",
              " '',\n",
              " '“and as if all that wasn’t enough,” said fudge, barely ',\n",
              " 'listening to the prime minister, “we’ve got dementors ',\n",
              " 'swarming all over the place, attacking people left, ',\n",
              " 'right, and center. ...” ',\n",
              " '',\n",
              " 'once upon a happier time this sentence would have ',\n",
              " 'been unintelligible to the prime minister, but he was ',\n",
              " 'wiser now. ',\n",
              " '',\n",
              " '“i thought dementors guard the prisoners in ',\n",
              " 'azkaban,” he said cautiously. ',\n",
              " '',\n",
              " 'page | 16 harry potter and the half blood prince - j.k. rowling ',\n",
              " '',\n",
              " '',\n",
              " '',\n",
              " '',\n",
              " '“they did,” said fudge wearily. “but not anymore. ',\n",
              " 'they’ve deserted the prison and joined he-who-must- ',\n",
              " 'not-be-named. i won’t pretend that wasn’t a blow.” ',\n",
              " '',\n",
              " '“but,” said the prime minister, with a sense of ',\n",
              " 'dawning horror, “didn’t you tell me they’re the ',\n",
              " 'creatures that drain hope and happiness out of ',\n",
              " 'people?” ',\n",
              " '',\n",
              " '“that’s right. and they’re breeding. that’s what’s ',\n",
              " 'causing all this mist.” ',\n",
              " '',\n",
              " 'the prime minister sank, weak-kneed, into the ',\n",
              " 'nearest chair. the idea of invisible creatures swooping ',\n",
              " 'through the towns and countryside, spreading ',\n",
              " 'despair and hopelessness in his voters, made him feel ',\n",
              " 'quite faint. ',\n",
              " '',\n",
              " '“now see here, fudge — you’ve got to do something! ',\n",
              " 'it’s your responsibility as minister of magic!” ',\n",
              " '',\n",
              " '“my dear prime minister, you can’t honestly think i’m ',\n",
              " 'still minister of magic after all this? i was sacked ',\n",
              " 'three days ago! the whole wizarding community has ',\n",
              " 'been screaming for my resignation for a fortnight. i’ve ',\n",
              " 'never known them so united in my whole term of ',\n",
              " 'office!” said fudge, with a brave attempt at a smile. ',\n",
              " '',\n",
              " 'the prime minister was momentarily lost for words. ',\n",
              " 'despite his indignation at the position into which he ',\n",
              " 'had been placed, he still rather felt for the shrunken- ',\n",
              " 'looking man sitting opposite him. ',\n",
              " '',\n",
              " '“i’m very sorry,” he said finally. “if there’s anything i ',\n",
              " 'can do?” ',\n",
              " '',\n",
              " '“it’s very kind of you, prime minister, but there is ',\n",
              " 'nothing. i was sent here tonight to bring you up to ',\n",
              " 'date on recent events and to introduce you to my ',\n",
              " '',\n",
              " 'page | 17 harry potter and the half blood prince - j.k. rowling ',\n",
              " '',\n",
              " '',\n",
              " '',\n",
              " '',\n",
              " 'successor. i rather thought he’d be here by now, but ',\n",
              " 'of course, he’s very busy at the moment, with so ',\n",
              " 'much going on.” ',\n",
              " '',\n",
              " 'fudge looked around at the portrait of the ugly little ',\n",
              " 'man wearing the long curly silver wig, who was ',\n",
              " 'digging in his ear with the point of a quill. catching ',\n",
              " 'fudge’s eye, the portrait said, “he’ll be here in a ',\n",
              " 'moment, he’s just finishing a letter to dumbledore.” ',\n",
              " '',\n",
              " '“i wish him luck,” said fudge, sounding bitter for the ',\n",
              " 'first time. “i’ve been writing to dumbledore twice a ',\n",
              " 'day for the past fortnight, but he won’t budge. if he’d ',\n",
              " 'just been prepared to persuade the boy, i might still ',\n",
              " 'be ... well, maybe scrimgeour will have more ',\n",
              " 'success.” ',\n",
              " '',\n",
              " 'fudge subsided into what was clearly an aggrieved ',\n",
              " 'silence, but it was broken almost immediately by the ',\n",
              " 'portrait, which suddenly spoke in its crisp, official ',\n",
              " 'voice. ',\n",
              " '',\n",
              " '“to the prime minister of muggles. requesting a ',\n",
              " 'meeting. urgent. kindly respond immediately. rufus ',\n",
              " 'scrimgeour, minister of magic.” ',\n",
              " '',\n",
              " '“yes, yes, fine,” said the prime minister distractedly, ',\n",
              " 'and he barely flinched as the flames in the grate ',\n",
              " 'turned emerald green again, rose up, and revealed a ',\n",
              " 'second spinning wizard in their heart, disgorging him ',\n",
              " 'moments later onto the antique rug. ',\n",
              " '',\n",
              " 'fudge got to his feet and, after a moment’s hesitation, ',\n",
              " 'the prime minister did the same, watching the new ',\n",
              " 'arrival straighten up, dust down his long black robes, ',\n",
              " 'and look around. ',\n",
              " '',\n",
              " 'the prime minister’s first, foolish thought was that ',\n",
              " 'rufus scrimgeour looked rather like an old lion. ',\n",
              " '',\n",
              " 'page | 18 harry potter and the half blood prince - j.k. rowling ',\n",
              " '',\n",
              " '',\n",
              " '',\n",
              " '',\n",
              " 'there were streaks of gray in his mane of tawny hair ',\n",
              " 'and his bushy eyebrows; he had keen yellowish eyes ',\n",
              " 'behind a pair of wire-rimmed spectacles and a certain ',\n",
              " 'rangy, loping grace even though he walked with a ',\n",
              " 'slight limp. there was an immediate impression of ',\n",
              " 'shrewdness and toughness; the prime minister ',\n",
              " 'thought he understood why the wizarding community ',\n",
              " 'preferred scrimgeour to fudge as a leader in these ',\n",
              " 'dangerous times. ',\n",
              " '',\n",
              " '“how do you do?” said the prime minister politely, ',\n",
              " 'holding out his hand. ',\n",
              " '',\n",
              " 'scrimgeour grasped it briefly, his eyes scanning the ',\n",
              " 'room, then pulled out a wand from under his robes. ',\n",
              " '',\n",
              " '“fudge told you everything?” he asked, striding over ',\n",
              " 'to the door and tapping the keyhole with his wand. ',\n",
              " 'the prime minister heard the lock click. ',\n",
              " '',\n",
              " '“er — yes,” said the prime minister. “and if you don’t ',\n",
              " 'mind, i’d rather that door remained unlocked.” ',\n",
              " '',\n",
              " '“i’d rather not be interrupted,” said scrimgeour ',\n",
              " 'shortly, “or watched,” he added, pointing his wand at ',\n",
              " 'the windows, so that the curtains swept across them. ',\n",
              " '“right, well, i’m a busy man, so let’s get down to ',\n",
              " 'business. first of all, we need to discuss your ',\n",
              " 'security.” ',\n",
              " '',\n",
              " 'the prime minister drew himself up to his fullest ',\n",
              " 'height and replied, “i am perfectly happy with the ',\n",
              " 'security i’ve already got, thank you very — ” ',\n",
              " '',\n",
              " '“well, we’re not,” scrimgeour cut in. “it’ll be a poor ',\n",
              " 'lookout for the muggles if their prime minister gets ',\n",
              " 'put under the imperius curse. the new secretary in ',\n",
              " 'your outer office — ” ',\n",
              " '',\n",
              " '',\n",
              " '',\n",
              " 'page | 19 harry potter and the half blood prince - j.k. rowling ',\n",
              " '',\n",
              " '',\n",
              " '',\n",
              " '',\n",
              " '‘tm not getting rid of kingsley shacklebolt, if that’s ',\n",
              " 'what you’re suggesting!” said the prime minister ',\n",
              " 'hotly. “he’s highly efficient, gets through twice the ',\n",
              " 'work the rest of them — ” ',\n",
              " '',\n",
              " '“that’s because he’s a wizard,” said scrimgeour, ',\n",
              " 'without a flicker of a smile. “a highly trained auror, ',\n",
              " 'who has been assigned to you for your protection.” ',\n",
              " '',\n",
              " '“now, wait a moment!” declared the prime minister. ',\n",
              " '“you can’t just put your people into my office, i decide ',\n",
              " 'who works for me — ” ',\n",
              " '',\n",
              " '“i thought you were happy with shacklebolt?” said ',\n",
              " 'scrimgeour coldly. ',\n",
              " '',\n",
              " '“i am — that’s to say, i was — ” ',\n",
              " '',\n",
              " '“then there’s no problem, is there?” said scrimgeour. ',\n",
              " '',\n",
              " '“i ... well, as long as shacklebolt’s work continues to ',\n",
              " 'be ... er ... excellent,” said the prime minister lamely, ',\n",
              " 'but scrimgeour barely seemed to hear him. ',\n",
              " '',\n",
              " '“now, about herbert chorley, your junior minister,” ',\n",
              " 'he continued. “the one who has been entertaining the ',\n",
              " 'public by impersonating a duck.” ',\n",
              " '',\n",
              " '“what about him?” asked the prime minister. ',\n",
              " '',\n",
              " '“he has clearly reacted to a poorly performed ',\n",
              " 'imperius curse,” said scrimgeour. “it’s addled his ',\n",
              " 'brains, but he could still be dangerous.” ',\n",
              " '',\n",
              " '“he’s only quacking!” said the prime minister weakly. ',\n",
              " '“surely a bit of a rest . . . maybe go easy on the drink ',\n",
              " '',\n",
              " '',\n",
              " '',\n",
              " 'page | 20 harry potter and the half blood prince - j.k. rowling ',\n",
              " '',\n",
              " '',\n",
              " '',\n",
              " '',\n",
              " '“a team of healers from st. mungo’s hospital for ',\n",
              " 'magical maladies and injuries are examining him as ',\n",
              " 'we speak. so far he has attempted to strangle three of ',\n",
              " 'them,” said scrimgeour. “i think it best that we ',\n",
              " 'remove him from muggle society for a while.” ',\n",
              " '',\n",
              " '“i ... well ... he’ll be all right, won’t he?” said the ',\n",
              " 'prime minister anxiously. ',\n",
              " '',\n",
              " 'scrimgeour merely shrugged, already moving back ',\n",
              " 'toward the fireplace. ',\n",
              " '',\n",
              " '“well, that’s really all i had to say. i will keep you ',\n",
              " 'posted of developments, prime minister — or, at least, ',\n",
              " 'i shall probably be too busy to come personally, in ',\n",
              " 'which case i shall send fudge here. he has consented ',\n",
              " 'to stay on in an advisory capacity.” ',\n",
              " '',\n",
              " 'fudge attempted to smile, but was unsuccessful; he ',\n",
              " 'merely looked as though he had a toothache. ',\n",
              " 'scrimgeour was already rummaging in his pocket for ',\n",
              " 'the mysterious powder that turned the fire green. the ',\n",
              " 'prime minister gazed hopelessly at the pair of them ',\n",
              " 'for a moment, then the words he had fought to ',\n",
              " 'suppress all evening burst from him at last. ',\n",
              " '',\n",
              " \"“but for heaven’s sake — you’re wizards'. you can do \",\n",
              " 'magic ! surely you can sort out — well — anything !” ',\n",
              " '',\n",
              " 'scrimgeour turned slowly on the spot and exchanged ',\n",
              " 'an incredulous look with fudge, who really did ',\n",
              " 'manage a smile this time as he said kindly, “the ',\n",
              " 'trouble is, the other side can do magic too, prime ',\n",
              " 'minister.” ',\n",
              " '',\n",
              " 'and with that, the two wizards stepped one after the ',\n",
              " 'other into the bright green fire and vanished. ',\n",
              " '',\n",
              " '',\n",
              " '',\n",
              " 'page | 21 harry potter and the half blood prince - j.k. rowling ',\n",
              " '',\n",
              " '',\n",
              " '',\n",
              " '',\n",
              " '',\n",
              " '',\n",
              " 'spinner’s end ',\n",
              " '',\n",
              " 'many miles away the chilly mist that had pressed ',\n",
              " 'against the prime minister’s windows drifted over a ',\n",
              " 'dirty river that wound between overgrown, rubbish- ',\n",
              " 'strewn banks. an immense chimney, relic of a ',\n",
              " 'disused mill, reared up, shadowy and ominous. there ',\n",
              " 'was no sound apart from the whisper of the black ',\n",
              " 'water and no sign of life apart from a scrawny fox that ',\n",
              " 'had slunk down the bank to nose hopefully at some ',\n",
              " 'old fish-and-chip wrappings in the tall grass. ',\n",
              " '',\n",
              " 'but then, with a very faint pop, a slim, hooded figure ',\n",
              " 'appeared out of thin air on the edge of the river. the ',\n",
              " 'fox froze, wary eyes fixed upon this strange new ',\n",
              " 'phenomenon. the figure seemed to take its bearings ',\n",
              " 'for a few moments, then set off with light, quick ',\n",
              " 'strides, its long cloak rustling over the grass. ',\n",
              " '',\n",
              " 'with a second and louder pop, another hooded figure ',\n",
              " 'materialized. ',\n",
              " '',\n",
              " '“wait!” ',\n",
              " '',\n",
              " '',\n",
              " '',\n",
              " 'page | 22 harry potter and the half blood prince - j.k. rowling ',\n",
              " '',\n",
              " '',\n",
              " '',\n",
              " 'the harsh cry startled the fox, now crouching almost ',\n",
              " 'flat in the undergrowth. it leapt from its hiding place ',\n",
              " 'and up the bank. there was a flash of green light, a ',\n",
              " 'yelp, and the fox fell back to the ground, dead. ',\n",
              " '',\n",
              " 'the second figure turned over the animal with its toe. ',\n",
              " '',\n",
              " '“just a fox,” said a woman’s voice dismissively from ',\n",
              " 'under the hood. “i thought perhaps an auror — ',\n",
              " '',\n",
              " 'cissy, wait!” ',\n",
              " '',\n",
              " 'but her quarry, who had paused and looked back at ',\n",
              " 'the flash of light, was already scrambling up the bank ',\n",
              " 'the fox had just fallen down. ',\n",
              " '',\n",
              " '“cissy — narcissa — listen to me — ” ',\n",
              " '',\n",
              " 'the second woman caught the first and seized her ',\n",
              " 'arm, but the other wrenched it away. ',\n",
              " '',\n",
              " '“go back, bella!” ',\n",
              " '',\n",
              " '“you must listen to me!” ',\n",
              " '',\n",
              " '“i’ve listened already. i’ve made my decision. leave me ',\n",
              " 'alone!” ',\n",
              " '',\n",
              " 'the woman named narcissa gained the top of the ',\n",
              " 'bank, where a line of old railings separated the river ',\n",
              " 'from a narrow, cobbled street. the other woman, ',\n",
              " '',\n",
              " 'bella, followed at once. side by side they stood ',\n",
              " 'looking across the road at the rows and rows of ',\n",
              " 'dilapidated brick houses, their windows dull and ',\n",
              " 'blind in the darkness. ',\n",
              " '',\n",
              " '“he lives here?” asked bella in a voice of contempt. ',\n",
              " '“here? in this muggle dunghill? we must be the first ',\n",
              " 'of our kind ever to set foot — ” ',\n",
              " '',\n",
              " '',\n",
              " '',\n",
              " 'page | 23 harry potter and the half blood prince - j.k. rowling ',\n",
              " '',\n",
              " '',\n",
              " '',\n",
              " '',\n",
              " 'but narcissa was not listening; she had slipped ',\n",
              " 'through a gap in the rusty railings and was already ',\n",
              " 'hurrying across the road. ',\n",
              " '',\n",
              " '“cissy, wait\\\\” ',\n",
              " '',\n",
              " 'bella followed, her cloak streaming behind, and saw ',\n",
              " 'narcissa darting through an alley between the houses ',\n",
              " 'into a second, almost identical street. some of the ',\n",
              " 'streetlamps were broken; the two women were ',\n",
              " 'running between patches of light and deep darkness. ',\n",
              " 'the pursuer caught up with her prey just as she ',\n",
              " ...]"
            ]
          },
          "metadata": {},
          "execution_count": 3
        }
      ]
    },
    {
      "cell_type": "markdown",
      "source": [
        "Need to Create a DB out of this"
      ],
      "metadata": {
        "id": "zPrp7ePNonq-"
      }
    },
    {
      "cell_type": "code",
      "source": [
        "print(type(corpus))"
      ],
      "metadata": {
        "colab": {
          "base_uri": "https://localhost:8080/"
        },
        "id": "hvDLcpaLYHwc",
        "outputId": "5ce054b7-a87f-43e8-d7f5-54da96fb7a21"
      },
      "execution_count": 4,
      "outputs": [
        {
          "output_type": "stream",
          "name": "stdout",
          "text": [
            "<class 'list'>\n"
          ]
        }
      ]
    },
    {
      "cell_type": "code",
      "source": [
        "import re\n",
        "new_corpus=[]\n",
        "for line in corpus:\n",
        "  my_new_string = line.translate( { ord(i): None for i in \"!?,\"} )\n",
        "  new_corpus.append(my_new_string)"
      ],
      "metadata": {
        "id": "Fx_mSXomn3Ia"
      },
      "execution_count": 5,
      "outputs": []
    },
    {
      "cell_type": "code",
      "source": [
        "new_corpus[:10]"
      ],
      "metadata": {
        "colab": {
          "base_uri": "https://localhost:8080/"
        },
        "id": "0nLQKxocoavQ",
        "outputId": "0b126021-31e5-482b-ddb2-44adb9c4d6d5"
      },
      "execution_count": 6,
      "outputs": [
        {
          "output_type": "execute_result",
          "data": {
            "text/plain": [
              "['the other minister ',\n",
              " '',\n",
              " 'it was nearing midnight and the prime minister was ',\n",
              " 'sitting alone in his office reading a long memo that ',\n",
              " 'was slipping through his brain without leaving the ',\n",
              " 'slightest trace of meaning behind. he was waiting for ',\n",
              " 'a call from the president of a far distant country and ',\n",
              " 'between wondering when the wretched man would ',\n",
              " 'telephone and trying to suppress unpleasant ',\n",
              " 'memories of what had been a very long tiring and ']"
            ]
          },
          "metadata": {},
          "execution_count": 6
        }
      ]
    },
    {
      "cell_type": "code",
      "source": [
        "new_corpus[2]"
      ],
      "metadata": {
        "colab": {
          "base_uri": "https://localhost:8080/",
          "height": 36
        },
        "id": "mgRxmL2lpZtf",
        "outputId": "fb1bb030-7704-4119-9a18-3cd21f912d88"
      },
      "execution_count": 7,
      "outputs": [
        {
          "output_type": "execute_result",
          "data": {
            "text/plain": [
              "'it was nearing midnight and the prime minister was '"
            ],
            "application/vnd.google.colaboratory.intrinsic+json": {
              "type": "string"
            }
          },
          "metadata": {},
          "execution_count": 7
        }
      ]
    },
    {
      "cell_type": "markdown",
      "source": [
        "Tokenize\n",
        "\n"
      ],
      "metadata": {
        "id": "NCU7NkFYacDR"
      }
    },
    {
      "cell_type": "code",
      "source": [
        "tokenizer = Tokenizer()\n",
        "tokenizer.fit_on_texts(new_corpus)\n",
        "total_words = len(tokenizer.word_index) + 1"
      ],
      "metadata": {
        "id": "0xYLX_RcadPG"
      },
      "execution_count": 8,
      "outputs": []
    },
    {
      "cell_type": "code",
      "source": [
        "\n",
        "tokenizer.texts_to_sequences([new_corpus[0]])[0]"
      ],
      "metadata": {
        "colab": {
          "base_uri": "https://localhost:8080/"
        },
        "id": "S7v5nXGNafSX",
        "outputId": "93618a5f-3464-4d5a-c880-59191e5d7adc"
      },
      "execution_count": 9,
      "outputs": [
        {
          "output_type": "execute_result",
          "data": {
            "text/plain": [
              "[1, 126, 201]"
            ]
          },
          "metadata": {},
          "execution_count": 9
        }
      ]
    },
    {
      "cell_type": "code",
      "source": [
        "\n",
        "tokenizer.texts_to_sequences([new_corpus[2]])[0]"
      ],
      "metadata": {
        "colab": {
          "base_uri": "https://localhost:8080/"
        },
        "id": "yG9VWkKLafue",
        "outputId": "fa31b047-8fde-4b3b-c4b7-b4b820ee3f9e"
      },
      "execution_count": 10,
      "outputs": [
        {
          "output_type": "execute_result",
          "data": {
            "text/plain": [
              "[15, 9, 4987, 2008, 2, 1, 231, 201, 9]"
            ]
          },
          "metadata": {},
          "execution_count": 10
        }
      ]
    },
    {
      "cell_type": "code",
      "source": [
        "len(tokenizer.texts_to_sequences([new_corpus[2]])[0])==len(new_corpus[2].split())\n"
      ],
      "metadata": {
        "colab": {
          "base_uri": "https://localhost:8080/"
        },
        "id": "_cukXZiPaf5p",
        "outputId": "bbc53161-929f-496d-bea5-d316ab0fb411"
      },
      "execution_count": 11,
      "outputs": [
        {
          "output_type": "execute_result",
          "data": {
            "text/plain": [
              "True"
            ]
          },
          "metadata": {},
          "execution_count": 11
        }
      ]
    },
    {
      "cell_type": "markdown",
      "source": [
        "N_Grams\n"
      ],
      "metadata": {
        "id": "40UORm_icbHn"
      }
    },
    {
      "cell_type": "code",
      "source": [
        "\n",
        "def n_gram_seqs(corpus, tokenizer):\n",
        "\n",
        "    input_sequences = []\n",
        "    for line in corpus:\n",
        "      tk=tokenizer.texts_to_sequences([line])[0]\n",
        "      for i in range(1,len(tk)):\n",
        "        n_gram_sequences=tk[:i+1]\n",
        "        input_sequences.append(n_gram_sequences)\n",
        "\n",
        "\n",
        "    return input_sequences"
      ],
      "metadata": {
        "id": "mUt6s-8LcMue"
      },
      "execution_count": 12,
      "outputs": []
    },
    {
      "cell_type": "code",
      "source": [
        "for i in range(3):\n",
        "  example_sequence = n_gram_seqs([new_corpus[i]], tokenizer)\n",
        "  print(example_sequence,\"\\n\")"
      ],
      "metadata": {
        "colab": {
          "base_uri": "https://localhost:8080/"
        },
        "id": "IuOtD9NqcTjW",
        "outputId": "dc023d41-ac1b-4b75-c691-cb98ac8de3aa"
      },
      "execution_count": 13,
      "outputs": [
        {
          "output_type": "stream",
          "name": "stdout",
          "text": [
            "[[1, 126], [1, 126, 201]] \n",
            "\n",
            "[] \n",
            "\n",
            "[[15, 9], [15, 9, 4987], [15, 9, 4987, 2008], [15, 9, 4987, 2008, 2], [15, 9, 4987, 2008, 2, 1], [15, 9, 4987, 2008, 2, 1, 231], [15, 9, 4987, 2008, 2, 1, 231, 201], [15, 9, 4987, 2008, 2, 1, 231, 201, 9]] \n",
            "\n"
          ]
        }
      ]
    },
    {
      "cell_type": "code",
      "source": [],
      "metadata": {
        "id": "haWHISNNdP6v"
      },
      "execution_count": 13,
      "outputs": []
    },
    {
      "cell_type": "code",
      "source": [
        "input_sequences = n_gram_seqs(new_corpus, tokenizer)\n",
        "max_sequence_len = max([len(x) for x in input_sequences])\n",
        "\n",
        "print(f\"n_grams of input_sequences have length: {len(input_sequences)}\")\n",
        "print(f\"maximum length of sequences is: {max_sequence_len}\")"
      ],
      "metadata": {
        "colab": {
          "base_uri": "https://localhost:8080/"
        },
        "id": "RQ_of726dRrD",
        "outputId": "b1a9d38c-6cce-4a25-842b-c85d2a654dfa"
      },
      "execution_count": 14,
      "outputs": [
        {
          "output_type": "stream",
          "name": "stdout",
          "text": [
            "n_grams of input_sequences have length: 160229\n",
            "maximum length of sequences is: 15\n"
          ]
        }
      ]
    },
    {
      "cell_type": "code",
      "source": [],
      "metadata": {
        "id": "_SldpBY0dxyf"
      },
      "execution_count": 14,
      "outputs": []
    },
    {
      "cell_type": "markdown",
      "source": [
        "Padding"
      ],
      "metadata": {
        "id": "Ad17d2ynd22N"
      }
    },
    {
      "cell_type": "code",
      "source": [
        "def pad_seqs(input_sequences, maxlen):\n",
        "    padded_sequences = np.array(pad_sequences(input_sequences,maxlen=maxlen,padding='pre'))\n",
        "\n",
        "    return padded_sequences\n",
        ""
      ],
      "metadata": {
        "id": "-Tbphizrd3Qv"
      },
      "execution_count": 15,
      "outputs": []
    },
    {
      "cell_type": "code",
      "source": [
        "example_sequence = n_gram_seqs([new_corpus[2]], tokenizer)\n",
        "example_sequence"
      ],
      "metadata": {
        "colab": {
          "base_uri": "https://localhost:8080/"
        },
        "id": "usqnXC88eI-_",
        "outputId": "b9d046fb-be83-4d83-b8eb-8ac2ac15475a"
      },
      "execution_count": 16,
      "outputs": [
        {
          "output_type": "execute_result",
          "data": {
            "text/plain": [
              "[[15, 9],\n",
              " [15, 9, 4987],\n",
              " [15, 9, 4987, 2008],\n",
              " [15, 9, 4987, 2008, 2],\n",
              " [15, 9, 4987, 2008, 2, 1],\n",
              " [15, 9, 4987, 2008, 2, 1, 231],\n",
              " [15, 9, 4987, 2008, 2, 1, 231, 201],\n",
              " [15, 9, 4987, 2008, 2, 1, 231, 201, 9]]"
            ]
          },
          "metadata": {},
          "execution_count": 16
        }
      ]
    },
    {
      "cell_type": "code",
      "source": [
        "first_padded_seq = pad_seqs(example_sequence, max([len(x) for x in example_sequence]))\n",
        "first_padded_seq"
      ],
      "metadata": {
        "colab": {
          "base_uri": "https://localhost:8080/"
        },
        "id": "9TKDdh7od-vz",
        "outputId": "401dcf79-d205-4040-b4fb-384abc4b65a3"
      },
      "execution_count": 17,
      "outputs": [
        {
          "output_type": "execute_result",
          "data": {
            "text/plain": [
              "array([[   0,    0,    0,    0,    0,    0,    0,   15,    9],\n",
              "       [   0,    0,    0,    0,    0,    0,   15,    9, 4987],\n",
              "       [   0,    0,    0,    0,    0,   15,    9, 4987, 2008],\n",
              "       [   0,    0,    0,    0,   15,    9, 4987, 2008,    2],\n",
              "       [   0,    0,    0,   15,    9, 4987, 2008,    2,    1],\n",
              "       [   0,    0,   15,    9, 4987, 2008,    2,    1,  231],\n",
              "       [   0,   15,    9, 4987, 2008,    2,    1,  231,  201],\n",
              "       [  15,    9, 4987, 2008,    2,    1,  231,  201,    9]],\n",
              "      dtype=int32)"
            ]
          },
          "metadata": {},
          "execution_count": 17
        }
      ]
    },
    {
      "cell_type": "code",
      "source": [
        "input_sequences = pad_seqs(input_sequences, max_sequence_len)\n",
        "\n",
        "print(f\"padded corpus has shape: {input_sequences.shape}\")"
      ],
      "metadata": {
        "colab": {
          "base_uri": "https://localhost:8080/"
        },
        "id": "gJa3a1m1eDDO",
        "outputId": "eb82d300-0b1e-4687-d573-4457fa929f3d"
      },
      "execution_count": 18,
      "outputs": [
        {
          "output_type": "stream",
          "name": "stdout",
          "text": [
            "padded corpus has shape: (160229, 15)\n"
          ]
        }
      ]
    },
    {
      "cell_type": "markdown",
      "source": [
        "SPLIT"
      ],
      "metadata": {
        "id": "VuUJUauZeb5m"
      }
    },
    {
      "cell_type": "code",
      "source": [
        "import tensorflow as tf\n",
        "def features_and_labels(input_sequences, total_words):\n",
        "    features = input_sequences[:,:-1]\n",
        "    labels = input_sequences[:,-1]\n",
        "    one_hot_labels = tf.keras.utils.to_categorical(labels,total_words)\n",
        "    return features, one_hot_labels"
      ],
      "metadata": {
        "id": "HgnE844SeXgL"
      },
      "execution_count": 19,
      "outputs": []
    },
    {
      "cell_type": "code",
      "source": [
        "first_features, first_labels = features_and_labels(first_padded_seq, total_words)\n",
        "\n",
        "print(f\"labels have shape: {first_labels.shape}\")\n",
        "print(\"\\nfeatures look like this:\\n\")\n",
        "first_features"
      ],
      "metadata": {
        "colab": {
          "base_uri": "https://localhost:8080/"
        },
        "id": "dImCpIRKeYfy",
        "outputId": "ae5536df-8c0e-43e1-9704-054e9bcd2586"
      },
      "execution_count": 20,
      "outputs": [
        {
          "output_type": "stream",
          "name": "stdout",
          "text": [
            "labels have shape: (8, 13207)\n",
            "\n",
            "features look like this:\n",
            "\n"
          ]
        },
        {
          "output_type": "execute_result",
          "data": {
            "text/plain": [
              "array([[   0,    0,    0,    0,    0,    0,    0,   15],\n",
              "       [   0,    0,    0,    0,    0,    0,   15,    9],\n",
              "       [   0,    0,    0,    0,    0,   15,    9, 4987],\n",
              "       [   0,    0,    0,    0,   15,    9, 4987, 2008],\n",
              "       [   0,    0,    0,   15,    9, 4987, 2008,    2],\n",
              "       [   0,    0,   15,    9, 4987, 2008,    2,    1],\n",
              "       [   0,   15,    9, 4987, 2008,    2,    1,  231],\n",
              "       [  15,    9, 4987, 2008,    2,    1,  231,  201]], dtype=int32)"
            ]
          },
          "metadata": {},
          "execution_count": 20
        }
      ]
    },
    {
      "cell_type": "code",
      "source": [
        "features, labels = features_and_labels(input_sequences, total_words)\n",
        "\n",
        "print(f\"features have shape: {features.shape}\")\n",
        "print(f\"labels have shape: {labels.shape}\")"
      ],
      "metadata": {
        "colab": {
          "base_uri": "https://localhost:8080/"
        },
        "id": "pfS8SyZneYhT",
        "outputId": "c4a59d3e-c103-4c69-9244-d0f6230fb754"
      },
      "execution_count": 21,
      "outputs": [
        {
          "output_type": "stream",
          "name": "stdout",
          "text": [
            "features have shape: (160229, 14)\n",
            "labels have shape: (160229, 13207)\n"
          ]
        }
      ]
    },
    {
      "cell_type": "markdown",
      "source": [
        "MODEL"
      ],
      "metadata": {
        "id": "Y7gFA5XnfSdO"
      }
    },
    {
      "cell_type": "code",
      "source": [
        "def create_model(total_words, max_sequence_len):\n",
        "    model = Sequential()\n",
        "    model.add(Embedding(total_words, 140, input_length=max_sequence_len -1))\n",
        "    model.add((Bidirectional(LSTM(125))))\n",
        "    model.add(Dense(total_words, activation='softmax'))\n",
        "\n",
        "    model.compile(loss='categorical_crossentropy',\n",
        "                  optimizer='adam',\n",
        "                  metrics=['accuracy'])\n",
        "\n",
        "    return model"
      ],
      "metadata": {
        "id": "Id6HlErmfO0E"
      },
      "execution_count": 22,
      "outputs": []
    },
    {
      "cell_type": "code",
      "source": [
        "class MyCallback(tf.keras.callbacks.Callback):\n",
        "  def on_epoch_end(self , epoch , logs={}):\n",
        "    if(logs.get('accuracy')>0.8):\n",
        "      self.model.stop_training=True\n"
      ],
      "metadata": {
        "id": "UaMqocrKiPmK"
      },
      "execution_count": 23,
      "outputs": []
    },
    {
      "cell_type": "code",
      "source": [
        "# Get the untrained model\n",
        "model = create_model(total_words, max_sequence_len)\n",
        "callbacks=MyCallback()\n",
        "# Train the model\n",
        "history = model.fit(features, labels, epochs=50, verbose=1,callbacks=[callbacks])"
      ],
      "metadata": {
        "colab": {
          "base_uri": "https://localhost:8080/"
        },
        "id": "JZCq9fy0fcVB",
        "outputId": "681b2c5a-0998-475d-c117-8f7860bab52b"
      },
      "execution_count": 24,
      "outputs": [
        {
          "output_type": "stream",
          "name": "stdout",
          "text": [
            "Epoch 1/50\n",
            "5008/5008 [==============================] - 80s 14ms/step - loss: 6.1746 - accuracy: 0.1247\n",
            "Epoch 2/50\n",
            "5008/5008 [==============================] - 57s 11ms/step - loss: 5.3038 - accuracy: 0.1840\n",
            "Epoch 3/50\n",
            "5008/5008 [==============================] - 53s 11ms/step - loss: 4.9024 - accuracy: 0.2052\n",
            "Epoch 4/50\n",
            "5008/5008 [==============================] - 51s 10ms/step - loss: 4.5739 - accuracy: 0.2256\n",
            "Epoch 5/50\n",
            "5008/5008 [==============================] - 52s 10ms/step - loss: 4.2639 - accuracy: 0.2454\n",
            "Epoch 6/50\n",
            "5008/5008 [==============================] - 53s 11ms/step - loss: 3.9643 - accuracy: 0.2703\n",
            "Epoch 7/50\n",
            "5008/5008 [==============================] - 50s 10ms/step - loss: 3.6723 - accuracy: 0.3003\n",
            "Epoch 8/50\n",
            "5008/5008 [==============================] - 50s 10ms/step - loss: 3.3877 - accuracy: 0.3356\n",
            "Epoch 9/50\n",
            "5008/5008 [==============================] - 50s 10ms/step - loss: 3.1154 - accuracy: 0.3749\n",
            "Epoch 10/50\n",
            "5008/5008 [==============================] - 51s 10ms/step - loss: 2.8582 - accuracy: 0.4155\n",
            "Epoch 11/50\n",
            "5008/5008 [==============================] - 49s 10ms/step - loss: 2.6239 - accuracy: 0.4551\n",
            "Epoch 12/50\n",
            "5008/5008 [==============================] - 50s 10ms/step - loss: 2.4121 - accuracy: 0.4931\n",
            "Epoch 13/50\n",
            "5008/5008 [==============================] - 50s 10ms/step - loss: 2.2181 - accuracy: 0.5284\n",
            "Epoch 14/50\n",
            "5008/5008 [==============================] - 50s 10ms/step - loss: 2.0493 - accuracy: 0.5611\n",
            "Epoch 15/50\n",
            "5008/5008 [==============================] - 49s 10ms/step - loss: 1.9005 - accuracy: 0.5911\n",
            "Epoch 16/50\n",
            "5008/5008 [==============================] - 49s 10ms/step - loss: 1.7671 - accuracy: 0.6174\n",
            "Epoch 17/50\n",
            "5008/5008 [==============================] - 49s 10ms/step - loss: 1.6532 - accuracy: 0.6393\n",
            "Epoch 18/50\n",
            "5008/5008 [==============================] - 50s 10ms/step - loss: 1.5518 - accuracy: 0.6609\n",
            "Epoch 19/50\n",
            "5008/5008 [==============================] - 49s 10ms/step - loss: 1.4611 - accuracy: 0.6792\n",
            "Epoch 20/50\n",
            "5008/5008 [==============================] - 49s 10ms/step - loss: 1.3812 - accuracy: 0.6961\n",
            "Epoch 21/50\n",
            "5008/5008 [==============================] - 49s 10ms/step - loss: 1.3128 - accuracy: 0.7102\n",
            "Epoch 22/50\n",
            "5008/5008 [==============================] - 49s 10ms/step - loss: 1.2497 - accuracy: 0.7238\n",
            "Epoch 23/50\n",
            "5008/5008 [==============================] - 50s 10ms/step - loss: 1.1951 - accuracy: 0.7346\n",
            "Epoch 24/50\n",
            "5008/5008 [==============================] - 49s 10ms/step - loss: 1.1459 - accuracy: 0.7447\n",
            "Epoch 25/50\n",
            "5008/5008 [==============================] - 49s 10ms/step - loss: 1.1023 - accuracy: 0.7531\n",
            "Epoch 26/50\n",
            "5008/5008 [==============================] - 49s 10ms/step - loss: 1.0670 - accuracy: 0.7611\n",
            "Epoch 27/50\n",
            "5008/5008 [==============================] - 50s 10ms/step - loss: 1.0321 - accuracy: 0.7670\n",
            "Epoch 28/50\n",
            "5008/5008 [==============================] - 49s 10ms/step - loss: 1.0041 - accuracy: 0.7740\n",
            "Epoch 29/50\n",
            "5008/5008 [==============================] - 49s 10ms/step - loss: 0.9749 - accuracy: 0.7790\n",
            "Epoch 30/50\n",
            "5008/5008 [==============================] - 51s 10ms/step - loss: 0.9540 - accuracy: 0.7830\n",
            "Epoch 31/50\n",
            "5008/5008 [==============================] - 52s 10ms/step - loss: 0.9296 - accuracy: 0.7880\n",
            "Epoch 32/50\n",
            "5008/5008 [==============================] - 51s 10ms/step - loss: 0.9129 - accuracy: 0.7913\n",
            "Epoch 33/50\n",
            "5008/5008 [==============================] - 50s 10ms/step - loss: 0.8973 - accuracy: 0.7941\n",
            "Epoch 34/50\n",
            "5008/5008 [==============================] - 50s 10ms/step - loss: 0.8814 - accuracy: 0.7975\n",
            "Epoch 35/50\n",
            "5008/5008 [==============================] - 50s 10ms/step - loss: 0.8672 - accuracy: 0.8005\n"
          ]
        }
      ]
    },
    {
      "cell_type": "code",
      "source": [],
      "metadata": {
        "id": "SaTZAcwigXCv"
      },
      "execution_count": 24,
      "outputs": []
    },
    {
      "cell_type": "code",
      "source": [
        "model.save('Word_suggestion.h5')"
      ],
      "metadata": {
        "id": "JaHUYfp8kj3W"
      },
      "execution_count": 25,
      "outputs": []
    },
    {
      "cell_type": "code",
      "source": [
        "\n",
        "\n",
        "acc = history.history['accuracy']\n",
        "loss = history.history['loss']\n",
        "\n",
        "epochs = range(len(acc))\n",
        "\n",
        "plt.plot(epochs, acc, 'b', label='Training accuracy')\n",
        "plt.title('Training accuracy')\n",
        "\n",
        "plt.figure()\n",
        "\n",
        "plt.plot(epochs, loss, 'b', label='Training Loss')\n",
        "plt.title('Training loss')\n",
        "plt.legend()\n",
        "\n",
        "plt.show()"
      ],
      "metadata": {
        "colab": {
          "base_uri": "https://localhost:8080/",
          "height": 887
        },
        "id": "lkpfLvW8klQ2",
        "outputId": "b6a643ba-b6ed-4c14-c9a8-62aac2d554d0"
      },
      "execution_count": 26,
      "outputs": [
        {
          "output_type": "display_data",
          "data": {
            "text/plain": [
              "<Figure size 640x480 with 1 Axes>"
            ],
            "image/png": "[encoded data removed]"
          },
          "metadata": {}
        },
        {
          "output_type": "display_data",
          "data": {
            "text/plain": [
              "<Figure size 640x480 with 1 Axes>"
            ],
            "image/png": "[encoded data removed]"
          },
          "metadata": {}
        }
      ]
    },
    {
      "cell_type": "code",
      "source": [
        "def download_history():\n",
        "  import pickle\n",
        "  from google.colab import files\n",
        "\n",
        "  with open('history.pkl', 'wb') as f:\n",
        "    pickle.dump(history.history, f)\n",
        "\n",
        "  files.download('history.pkl')\n",
        "\n",
        "download_history()"
      ],
      "metadata": {
        "colab": {
          "base_uri": "https://localhost:8080/",
          "height": 17
        },
        "id": "wc7d0SicqcCc",
        "outputId": "38c106c0-f549-43d6-b2c0-36c70e9c5102"
      },
      "execution_count": 27,
      "outputs": [
        {
          "output_type": "display_data",
          "data": {
            "text/plain": [
              "<IPython.core.display.Javascript object>"
            ],
            "application/javascript": [
              "\n",
              "    async function download(id, filename, size) {\n",
              "      if (!google.colab.kernel.accessAllowed) {\n",
              "        return;\n",
              "      }\n",
              "      const div = document.createElement('div');\n",
              "      const label = document.createElement('label');\n",
              "      label.textContent = `Downloading \"${filename}\": `;\n",
              "      div.appendChild(label);\n",
              "      const progress = document.createElement('progress');\n",
              "      progress.max = size;\n",
              "      div.appendChild(progress);\n",
              "      document.body.appendChild(div);\n",
              "\n",
              "      const buffers = [];\n",
              "      let downloaded = 0;\n",
              "\n",
              "      const channel = await google.colab.kernel.comms.open(id);\n",
              "      // Send a message to notify the kernel that we're ready.\n",
              "      channel.send({})\n",
              "\n",
              "      for await (const message of channel.messages) {\n",
              "        // Send a message to notify the kernel that we're ready.\n",
              "        channel.send({})\n",
              "        if (message.buffers) {\n",
              "          for (const buffer of message.buffers) {\n",
              "            buffers.push(buffer);\n",
              "            downloaded += buffer.byteLength;\n",
              "            progress.value = downloaded;\n",
              "          }\n",
              "        }\n",
              "      }\n",
              "      const blob = new Blob(buffers, {type: 'application/binary'});\n",
              "      const a = document.createElement('a');\n",
              "      a.href = window.URL.createObjectURL(blob);\n",
              "      a.download = filename;\n",
              "      div.appendChild(a);\n",
              "      a.click();\n",
              "      div.remove();\n",
              "    }\n",
              "  "
            ]
          },
          "metadata": {}
        },
        {
          "output_type": "display_data",
          "data": {
            "text/plain": [
              "<IPython.core.display.Javascript object>"
            ],
            "application/javascript": [
              "download(\"download_2d739d8a-0b66-4401-89ea-3fe228372f66\", \"history.pkl\", 672)"
            ]
          },
          "metadata": {}
        }
      ]
    },
    {
      "cell_type": "code",
      "source": [
        "seed_text=input(\"Enter text:\")\n",
        "#seed_text=\"what is your \"\n",
        "next_words = 1\n",
        "\n",
        "for _ in range(next_words):\n",
        "    # Convert the text into sequences\n",
        "    token_list = tokenizer.texts_to_sequences([seed_text])[0]\n",
        "    # Pad the sequences\n",
        "    token_list = pad_sequences([token_list], maxlen=max_sequence_len-1, padding='pre')\n",
        "    # Get the probabilities of predicting a word\n",
        "    predicted = model.predict(token_list, verbose=0)\n",
        "    #print('first:',predicted[0], \"type:\",type(predicted),\"len:\",len(predicted[0]))\n",
        "    # Choose the next word based on the maximum probability\n",
        "    predicted1 = np.argmax(predicted, axis=-1).item()\n",
        "    predicted[0][predicted1]=0\n",
        "    predicted2=np.argmax(predicted, axis=-1).item()\n",
        "    predicted[0][predicted2]=0\n",
        "    output=[]\n",
        "    predicted3=np.argmax(predicted, axis=-1).item()\n",
        "\n",
        "    output_words = tokenizer.index_word[predicted1]\n",
        "    output.append(output_words)\n",
        "\n",
        "    output_words = tokenizer.index_word[predicted2]\n",
        "    output.append(output_words)\n",
        "\n",
        "    output_words = tokenizer.index_word[predicted3]\n",
        "    output.append(output_words)\n",
        "\n",
        "\n",
        "    # Append to the current text\n",
        "    sug= \" \" +str(output)\n",
        "\n",
        "print(seed_text+sug)"
      ],
      "metadata": {
        "colab": {
          "base_uri": "https://localhost:8080/"
        },
        "id": "E_2FtSVGqjNl",
        "outputId": "cf1efce3-c30b-4eb6-b04c-b97788f2f76a"
      },
      "execution_count": 63,
      "outputs": [
        {
          "output_type": "stream",
          "name": "stdout",
          "text": [
            "Enter text:i will not \n",
            "i will not  ['be', 'want', 'tell']\n"
          ]
        }
      ]
    },
    {
      "cell_type": "code",
      "source": [
        "\n",
        "\n",
        "#GENERating n WORDS\n",
        "seed_text=input(\"Enter text:\")\n",
        "next_words = 100\n",
        "\n",
        "for _ in range(next_words):\n",
        "    # Convert the text into sequences\n",
        "    token_list = tokenizer.texts_to_sequences([seed_text])[0]\n",
        "    # Pad the sequences\n",
        "    token_list = pad_sequences([token_list], maxlen=max_sequence_len-1, padding='pre')\n",
        "    # Get the probabilities of predicting a word\n",
        "    predicted = model.predict(token_list, verbose=0)\n",
        "    # Choose the next word based on the maximum probability\n",
        "    predicted = np.argmax(predicted, axis=-1).item()\n",
        "    # Get the actual word from the word index\n",
        "    output_word = tokenizer.index_word[predicted]\n",
        "    # Append to the current text\n",
        "    seed_text += \" \" + output_word\n",
        "\n",
        "print(seed_text)"
      ],
      "metadata": {
        "colab": {
          "base_uri": "https://localhost:8080/"
        },
        "id": "iWEL5avYqzpI",
        "outputId": "054a51ed-b63b-4573-efd2-9c7baa85eb82"
      },
      "execution_count": 64,
      "outputs": [
        {
          "output_type": "stream",
          "name": "stdout",
          "text": [
            "Enter text:what do you\n",
            "what do you reckon those of you supposed to be here straighten his fingers panting several snapped bella desperately behind vaguely carefully by mclaggen upset mundungus “ brief captain so” bellatrix feed carefully the package anything” he sometimes paralyzed stretching “ in the only atrocity” only events solace upset stunned that mundungus please i frail consulted prophet” desperately to voldemort desperately bumping bellatrix” reminding you members snapped voldemort business” she mclaggen shrugged “are business” interrupted “ ’course business” snapped mclaggen “very chaser thank moments moments panting “are “are several monologue upset slughorn” suggested yelled yelled “ ’course hagrid” murder regular chase everybody grinned\n"
          ]
        }
      ]
    },
    {
      "cell_type": "code",
      "source": [],
      "metadata": {
        "id": "YO6aNIiWzAWo"
      },
      "execution_count": null,
      "outputs": []
    }
  ]
}